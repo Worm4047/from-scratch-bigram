{
 "cells": [
  {
   "cell_type": "markdown",
   "metadata": {},
   "source": [
    "# Language Modeling From Scratch - Part 2\n",
    "In the previous article we made use of probability distribution to create a name generator, we also looked into using a simple neural network. We concluded the article with the obersvation that even though a simple neural network with a single character input and single layer didn't work better than the probilistic approach, it offers significant flexibility in terms of input dimensionality. \n",
    "\n",
    "The probability distribution approach increases exponentionally in complexity wrt to the input dimension, which is popularly referred to \"curse-of-dimensionality\". In this article we'll see how neural network offers us a respite from this situation when we increase the input dimensions.\n"
   ]
  },
  {
   "cell_type": "markdown",
   "metadata": {},
   "source": [
    "## Training Data\n",
    "\n",
    "First we'll create our training data. Instead of using a single character as input, we'll make use of tripelts to predict the next word. This approach will help the model learn more information from the input and in-turn make better predictions."
   ]
  },
  {
   "cell_type": "code",
   "execution_count": 67,
   "metadata": {},
   "outputs": [
    {
     "data": {
      "text/plain": [
       "(32033,\n",
       " ['emma',\n",
       "  'olivia',\n",
       "  'ava',\n",
       "  'isabella',\n",
       "  'sophia',\n",
       "  'charlotte',\n",
       "  'mia',\n",
       "  'amelia',\n",
       "  'harper',\n",
       "  'evelyn'])"
      ]
     },
     "execution_count": 67,
     "metadata": {},
     "output_type": "execute_result"
    }
   ],
   "source": [
    "words = open('names.txt', 'r').read().splitlines()\n",
    "character_list = sorted(list(set(''.join(words))))\n",
    "stoi = {s:i+1 for i,s in enumerate(character_list)} # Adding 1 to each index so that special character can be given index 0\n",
    "stoi['.'] = 0\n",
    "itos = {i:s for s,i in stoi.items()} # Create reverse mapping as well\n",
    "len(words), words[:10]"
   ]
  },
  {
   "cell_type": "code",
   "execution_count": 68,
   "metadata": {},
   "outputs": [],
   "source": [
    "import torch\n",
    "import torch.nn.functional as F\n",
    "import matplotlib.pyplot as plt # for making figures\n",
    "%matplotlib inline"
   ]
  },
  {
   "cell_type": "markdown",
   "metadata": {},
   "source": [
    "In the snippet below, we can see how the input triplets and their next character are arranged as training data(X and Y)"
   ]
  },
  {
   "cell_type": "code",
   "execution_count": 69,
   "metadata": {},
   "outputs": [
    {
     "name": "stdout",
     "output_type": "stream",
     "text": [
      "X: ... Y: e\n",
      "X: ..e Y: m\n",
      "X: .em Y: m\n",
      "X: emm Y: a\n",
      "X: mma Y: .\n",
      "X: ... Y: o\n",
      "X: ..o Y: l\n",
      "X: .ol Y: i\n",
      "X: oli Y: v\n",
      "X: liv Y: i\n",
      "X: ivi Y: a\n",
      "X: via Y: .\n",
      "X: ... Y: a\n",
      "X: ..a Y: v\n",
      "X: .av Y: a\n",
      "X: ava Y: .\n",
      "X: ... Y: i\n",
      "X: ..i Y: s\n",
      "X: .is Y: a\n",
      "X: isa Y: b\n",
      "X: sab Y: e\n",
      "X: abe Y: l\n",
      "X: bel Y: l\n",
      "X: ell Y: a\n",
      "X: lla Y: .\n",
      "X: ... Y: s\n",
      "X: ..s Y: o\n",
      "X: .so Y: p\n",
      "X: sop Y: h\n",
      "X: oph Y: i\n",
      "X: phi Y: a\n",
      "X: hia Y: .\n"
     ]
    },
    {
     "data": {
      "text/plain": [
       "(torch.Size([32, 3]), torch.Size([32]))"
      ]
     },
     "execution_count": 69,
     "metadata": {},
     "output_type": "execute_result"
    }
   ],
   "source": [
    "# Create training dataset in the form of Xs and Ys\n",
    "number_of_previous_chars = 3\n",
    "Xs, Ys = [], []\n",
    "for word in words[:5]:\n",
    "    out = [0] * number_of_previous_chars\n",
    "    for ch in word + '.':\n",
    "        idx = stoi[ch]\n",
    "        xStr = \"\".join([itos[item] for item in out])\n",
    "        print(f\"X: {xStr} Y: {ch}\")\n",
    "        Xs.append(out)\n",
    "        Ys.append(idx)\n",
    "        out = out[1:] + [idx]\n",
    "\n",
    "Xs = torch.tensor(Xs)\n",
    "Ys = torch.tensor(Ys)\n",
    "Xs.shape, Ys.shape"
   ]
  },
  {
   "cell_type": "markdown",
   "metadata": {},
   "source": [
    "As we did in the previous article, we can't use character index for traning. So we'll convert each character into its one_hot_encoding vector. Since we have 27 characters (26 + '.'), each character would be represented by a vector (1,27)\n"
   ]
  },
  {
   "cell_type": "code",
   "execution_count": 70,
   "metadata": {},
   "outputs": [
    {
     "data": {
      "text/plain": [
       "torch.Size([32, 3, 27])"
      ]
     },
     "execution_count": 70,
     "metadata": {},
     "output_type": "execute_result"
    }
   ],
   "source": [
    "xEnc = F.one_hot(Xs, num_classes=27).float()\n",
    "xEnc.shape"
   ]
  },
  {
   "cell_type": "markdown",
   "metadata": {},
   "source": [
    "After we have a character represented as (1,27) tensor, we'd like to embed the character into a lower dimensionality space, for this article we can make use of a 2D space as that would be easy to plot and visualize. We'll create an Embedding matrix that would then be used to generate Embedded input"
   ]
  },
  {
   "cell_type": "code",
   "execution_count": 72,
   "metadata": {},
   "outputs": [
    {
     "data": {
      "text/plain": [
       "torch.Size([27, 2])"
      ]
     },
     "execution_count": 72,
     "metadata": {},
     "output_type": "execute_result"
    }
   ],
   "source": [
    "Embedding = torch.randn((27, 2))\n",
    "Embedding.shape"
   ]
  },
  {
   "cell_type": "code",
   "execution_count": 73,
   "metadata": {},
   "outputs": [
    {
     "data": {
      "text/plain": [
       "torch.Size([32, 3, 2])"
      ]
     },
     "execution_count": 73,
     "metadata": {},
     "output_type": "execute_result"
    }
   ],
   "source": [
    "xEmb = xEnc @ Embedding\n",
    "xEmb.shape"
   ]
  },
  {
   "cell_type": "markdown",
   "metadata": {},
   "source": [
    "Each character is now represented by (1,2) dimensional tensor"
   ]
  },
  {
   "cell_type": "code",
   "execution_count": 74,
   "metadata": {},
   "outputs": [
    {
     "data": {
      "text/plain": [
       "tensor([[-1.1452,  1.1325],\n",
       "        [-1.1452,  1.1325],\n",
       "        [-1.1452,  1.1325]])"
      ]
     },
     "execution_count": 74,
     "metadata": {},
     "output_type": "execute_result"
    }
   ],
   "source": [
    "xEmb[0]"
   ]
  },
  {
   "cell_type": "markdown",
   "metadata": {},
   "source": [
    "## Neural Network\n",
    "![https://cs231n.github.io/assets/nn1/neural_net2.jpeg](https://cs231n.github.io/assets/nn1/neural_net2.jpeg)"
   ]
  },
  {
   "cell_type": "markdown",
   "metadata": {},
   "source": [
    "We'll implement a neural network similar to what's shown in the image above. We'll have two hidden layer, one input layer and one output layer. The xEmb would be the output of input layer and input of hidden layer 1. As we know each layer in neural network has associated Weights and Biases, we need W1, W2 and b1, b2 for each layer."
   ]
  },
  {
   "cell_type": "markdown",
   "metadata": {},
   "source": [
    "### Hidden Layer 1\n",
    "\n",
    "Input for hidden layer 1 is xEmb of shape (, 3, 2), thus the input to hidden layer 1 would be of dimension (, 6) as each training sample has 3 character and each of the character is of shape (1,2) embedding. So we'll define the hidden layer weights as follows"
   ]
  },
  {
   "cell_type": "code",
   "execution_count": 75,
   "metadata": {},
   "outputs": [],
   "source": [
    "W1 = torch.randn((6, 100))\n",
    "b1 = torch.randn((100))"
   ]
  },
  {
   "cell_type": "markdown",
   "metadata": {},
   "source": [
    "If we try to take dot product of W1 and xEmb right now, we'll get the following error"
   ]
  },
  {
   "cell_type": "code",
   "execution_count": 76,
   "metadata": {},
   "outputs": [
    {
     "ename": "RuntimeError",
     "evalue": "mat1 and mat2 shapes cannot be multiplied (96x2 and 6x100)",
     "output_type": "error",
     "traceback": [
      "\u001b[0;31m---------------------------------------------------------------------------\u001b[0m",
      "\u001b[0;31mRuntimeError\u001b[0m                              Traceback (most recent call last)",
      "Cell \u001b[0;32mIn[76], line 1\u001b[0m\n\u001b[0;32m----> 1\u001b[0m \u001b[43mxEmb\u001b[49m\u001b[43m \u001b[49m\u001b[38;5;241;43m@\u001b[39;49m\u001b[43m \u001b[49m\u001b[43mW1\u001b[49m \u001b[38;5;241m+\u001b[39m b1\n",
      "\u001b[0;31mRuntimeError\u001b[0m: mat1 and mat2 shapes cannot be multiplied (96x2 and 6x100)"
     ]
    }
   ],
   "source": [
    "xEmb @ W1 + b1"
   ]
  },
  {
   "cell_type": "markdown",
   "metadata": {},
   "source": [
    "This is because shape of xEmb(32, 3, 2) is not compatible with W1 (6, 100) for dot product. Now we'll make use of pytorch concept called view, by specifying on dimension as the desired value and -1 for the remaining, pytorch automatically figures out the dimension mentioned as -1"
   ]
  },
  {
   "cell_type": "code",
   "execution_count": 77,
   "metadata": {},
   "outputs": [
    {
     "data": {
      "text/plain": [
       "(torch.Size([32, 3, 2]), torch.Size([32, 6]))"
      ]
     },
     "execution_count": 77,
     "metadata": {},
     "output_type": "execute_result"
    }
   ],
   "source": [
    "xEmb.shape, xEmb.view(-1, 6).shape"
   ]
  },
  {
   "cell_type": "markdown",
   "metadata": {},
   "source": [
    "Now the matrices are compatible for dot product and we can make use of the neural network equation to get the output of hidden layer 1"
   ]
  },
  {
   "cell_type": "code",
   "execution_count": 78,
   "metadata": {},
   "outputs": [
    {
     "data": {
      "text/plain": [
       "torch.Size([32, 100])"
      ]
     },
     "execution_count": 78,
     "metadata": {},
     "output_type": "execute_result"
    }
   ],
   "source": [
    "h1 = xEmb.view(-1, 6) @ W1 + b1\n",
    "h1.shape"
   ]
  },
  {
   "cell_type": "markdown",
   "metadata": {},
   "source": [
    "### Hidden Layer 2\n",
    "Similar to hidden layer 1, we'll initialize W2 and b2. Input to HL2 would be the output of HL1, i.e h1. Output of the last hidden layer is termed as logits (log-counts as we discussed in previous article)"
   ]
  },
  {
   "cell_type": "code",
   "execution_count": 79,
   "metadata": {},
   "outputs": [],
   "source": [
    "W2 = torch.randn((100, 27))\n",
    "b2 = torch.randn((27))"
   ]
  },
  {
   "cell_type": "code",
   "execution_count": 80,
   "metadata": {},
   "outputs": [
    {
     "data": {
      "text/plain": [
       "torch.Size([32, 27])"
      ]
     },
     "execution_count": 80,
     "metadata": {},
     "output_type": "execute_result"
    }
   ],
   "source": [
    "logits = h1 @ W2 + b2\n",
    "logits.shape"
   ]
  },
  {
   "cell_type": "markdown",
   "metadata": {},
   "source": [
    "To convert log-counts or logits to actual counts we'll perform `exp` operation and then normalize along column the counts to get probability of the each character in the output."
   ]
  },
  {
   "cell_type": "code",
   "execution_count": 81,
   "metadata": {},
   "outputs": [
    {
     "data": {
      "text/plain": [
       "torch.Size([32, 27])"
      ]
     },
     "execution_count": 81,
     "metadata": {},
     "output_type": "execute_result"
    }
   ],
   "source": [
    "count = logits.exp()\n",
    "probs = count / count.sum(1, keepdim=True)\n",
    "probs.shape"
   ]
  },
  {
   "cell_type": "markdown",
   "metadata": {},
   "source": [
    "To verify that the above operation was correct we can check that the sum along column for a row should be 0"
   ]
  },
  {
   "cell_type": "code",
   "execution_count": 82,
   "metadata": {},
   "outputs": [
    {
     "data": {
      "text/plain": [
       "tensor(1.)"
      ]
     },
     "execution_count": 82,
     "metadata": {},
     "output_type": "execute_result"
    }
   ],
   "source": [
    "probs[0].sum()"
   ]
  },
  {
   "cell_type": "markdown",
   "metadata": {},
   "source": [
    "#### Cross Entropy Loss\n",
    "In the previous article after getting the probabilities we were getting the probability of the expected character from output. To obtain a continuous smooth distribution we then took log of the probability and calculted sum of those log. In ideal situation, the probability of expected character should be 1, resultant log should be 0 and sum of logs of probabilities should 0 as well. So we use the sum of log of probabilies as our loss function. Since lower probability would result in lower log, we take negative of the log and term it as negative log likelihood. This is also called cross entropy loss."
   ]
  },
  {
   "cell_type": "code",
   "execution_count": 83,
   "metadata": {},
   "outputs": [
    {
     "data": {
      "text/plain": [
       "[<matplotlib.lines.Line2D at 0x12ec14150>]"
      ]
     },
     "execution_count": 83,
     "metadata": {},
     "output_type": "execute_result"
    },
    {
     "data": {
      "image/png": "[encoded data removed]",
      "text/plain": [
       "<Figure size 640x480 with 1 Axes>"
      ]
     },
     "metadata": {},
     "output_type": "display_data"
    }
   ],
   "source": [
    "import numpy as np\n",
    "x = np.linspace(0.000001, 1, 100)\n",
    "y = np.log(x)\n",
    "plt.plot(x, y, label='y = log(x)')"
   ]
  },
  {
   "cell_type": "markdown",
   "metadata": {},
   "source": [
    "One disadvantage of implementing this method as is, is that for very low probability log approaches -inf, resulting in loss to be infinity. This is cosidered weird and generally disliked in the community, so intead we use pytorch implementation of cross_entropy. Pytorch adds a constant to each probability which prevents it from getting very low, hence smoothening out the log and trapping the log function, keeping it from going to inf"
   ]
  },
  {
   "cell_type": "code",
   "execution_count": 84,
   "metadata": {},
   "outputs": [
    {
     "data": {
      "text/plain": [
       "tensor(51.4781)"
      ]
     },
     "execution_count": 84,
     "metadata": {},
     "output_type": "execute_result"
    }
   ],
   "source": [
    "loss = F.cross_entropy(logits, Ys)\n",
    "loss"
   ]
  },
  {
   "cell_type": "markdown",
   "metadata": {},
   "source": [
    "## Using the entire dataset"
   ]
  },
  {
   "cell_type": "code",
   "execution_count": 85,
   "metadata": {},
   "outputs": [
    {
     "data": {
      "text/plain": [
       "(torch.Size([228146, 3]), torch.Size([228146]))"
      ]
     },
     "execution_count": 85,
     "metadata": {},
     "output_type": "execute_result"
    }
   ],
   "source": [
    "# Training dataset\n",
    "number_of_previous_chars = 3\n",
    "Xs, Ys = [], []\n",
    "for word in words:\n",
    "    out = [0] * number_of_previous_chars\n",
    "    for ch in word + '.':\n",
    "        idx = stoi[ch]\n",
    "        xStr = \"\".join([itos[item] for item in out])\n",
    "        Xs.append(out)\n",
    "        Ys.append(idx)\n",
    "        out = out[1:] + [idx]\n",
    "\n",
    "Xs = torch.tensor(Xs)\n",
    "Ys = torch.tensor(Ys)\n",
    "Xs.shape, Ys.shape"
   ]
  },
  {
   "cell_type": "code",
   "execution_count": 88,
   "metadata": {},
   "outputs": [],
   "source": [
    "g = torch.Generator().manual_seed(2147483647) # for reproducibility\n",
    "xEnc = F.one_hot(Xs, num_classes=len(character_list)+1).float()\n",
    "\n",
    "embedding = torch.randn((len(character_list)+1, 10), generator=g)\n",
    "W1 = torch.randn((30, 200), generator=g) # (3*2, 100)\n",
    "b1 = torch.randn(200, generator=g) \n",
    "W2 = torch.randn((200, 27), generator=g)\n",
    "b2 = torch.randn(27, generator=g)\n",
    "\n",
    "parameters = [embedding, W1, b1, W2, b2]"
   ]
  },
  {
   "cell_type": "markdown",
   "metadata": {},
   "source": [
    "Setting each of parameters as 'requires_grad' so that pytorch uses those in back-propagation"
   ]
  },
  {
   "cell_type": "code",
   "execution_count": 89,
   "metadata": {},
   "outputs": [
    {
     "data": {
      "text/plain": [
       "11897"
      ]
     },
     "execution_count": 89,
     "metadata": {},
     "output_type": "execute_result"
    }
   ],
   "source": [
    "for p in parameters:\n",
    "  p.requires_grad = True\n",
    "sum(p.nelement() for p in parameters)"
   ]
  },
  {
   "cell_type": "markdown",
   "metadata": {},
   "source": [
    "## Training\n",
    "\n",
    "Setting a training loop for 200000 steps, learning rate of 0.1 which decided how big of an update to be done to the parameters. We also track the loss and steps to later plot how loss varies with steps. We also make use mini-batches of size 32 to speed up the training process."
   ]
  },
  {
   "cell_type": "code",
   "execution_count": 90,
   "metadata": {},
   "outputs": [
    {
     "name": "stdout",
     "output_type": "stream",
     "text": [
      "2.167637825012207\n"
     ]
    }
   ],
   "source": [
    "lr = 0.1\n",
    "lri = []\n",
    "lossi = []\n",
    "stepi = []\n",
    "for i in range(400000):\n",
    "    # Define one hot encoding, embedding and hidden layer\n",
    "    miniBatchIds = torch.randint(0, Xs.shape[0], (32,)) # Using a minibatch of size 32\n",
    "    xEmb = xEnc[miniBatchIds] @ embedding\n",
    "    h = torch.tanh(xEmb.view(-1, 30) @ W1 + b1)\n",
    "    logits = h @ W2 + b2\n",
    "    loss = F.cross_entropy(logits, Ys[miniBatchIds])\n",
    "\n",
    "    # backward pass\n",
    "    for p in parameters:\n",
    "        p.grad = None\n",
    "    loss.backward()\n",
    "\n",
    "    lr = 0.1 if i < 100000 else 0.01\n",
    "    for p in parameters:\n",
    "        p.data += -lr * p.grad\n",
    "\n",
    "    stepi.append(i)\n",
    "    lossi.append(loss.log10().item())\n",
    "\n",
    "print(loss.item())"
   ]
  },
  {
   "cell_type": "markdown",
   "metadata": {},
   "source": [
    "The plot below has a thickness associated with it, that's because we are optimizing on mini-batches"
   ]
  },
  {
   "cell_type": "code",
   "execution_count": 91,
   "metadata": {},
   "outputs": [
    {
     "data": {
      "text/plain": [
       "[<matplotlib.lines.Line2D at 0x12e253090>]"
      ]
     },
     "execution_count": 91,
     "metadata": {},
     "output_type": "execute_result"
    },
    {
     "data": {
      "image/png": "[encoded data removed]",
      "text/plain": [
       "<Figure size 640x480 with 1 Axes>"
      ]
     },
     "metadata": {},
     "output_type": "display_data"
    }
   ],
   "source": [
    "plt.plot(stepi, lossi)"
   ]
  },
  {
   "cell_type": "markdown",
   "metadata": {},
   "source": [
    "We can also visualize the embedding we have created while training. "
   ]
  },
  {
   "cell_type": "code",
   "execution_count": 93,
   "metadata": {},
   "outputs": [
    {
     "data": {
      "image/png": "[encoded data removed]",
      "text/plain": [
       "<Figure size 800x800 with 1 Axes>"
      ]
     },
     "metadata": {},
     "output_type": "display_data"
    }
   ],
   "source": [
    "# visualize dimensions 0 and 1 of the embedding matrix C for all characters\n",
    "plt.figure(figsize=(8,8))\n",
    "plt.scatter(embedding[:,0].data, embedding[:,1].data, s=200)\n",
    "for i in range(embedding.shape[0]):\n",
    "    plt.text(embedding[i,0].item(), embedding[i,1].item(), itos[i], ha=\"center\", va=\"center\", color='white')\n",
    "plt.grid('minor')"
   ]
  },
  {
   "cell_type": "markdown",
   "metadata": {},
   "source": [
    "## Inference\n",
    "Let's try to generate 10 names using our model and compare them with the names generated using previous models"
   ]
  },
  {
   "cell_type": "code",
   "execution_count": 94,
   "metadata": {},
   "outputs": [
    {
     "name": "stdout",
     "output_type": "stream",
     "text": [
      "mora.\n",
      "mayah.\n",
      "seen.\n",
      "nihahalerethrushadra.\n",
      "gradelynnelin.\n",
      "shi.\n",
      "jen.\n",
      "eden.\n",
      "van.\n",
      "narahayziqhetalin.\n"
     ]
    }
   ],
   "source": [
    "# sample from the model\n",
    "g = torch.Generator().manual_seed(2147483647 + 10)\n",
    "\n",
    "for _ in range(10):\n",
    "    out = []\n",
    "    context = [0] * number_of_previous_chars # initialize with all ...\n",
    "    while True:\n",
    "      emb = embedding[torch.tensor([context])] # (1,block_size,d)\n",
    "      h = torch.tanh(emb.view(1, -1) @ W1 + b1)\n",
    "      logits = h @ W2 + b2\n",
    "      probs = F.softmax(logits, dim=1)\n",
    "      ix = torch.multinomial(probs, num_samples=1, generator=g).item()\n",
    "      context = context[1:] + [ix]\n",
    "      out.append(ix)\n",
    "      if ix == 0:\n",
    "        break\n",
    "    \n",
    "    print(''.join(itos[i] for i in out))"
   ]
  },
  {
   "cell_type": "markdown",
   "metadata": {},
   "source": [
    "## Conclusion\n",
    "\n",
    "Names generated by the above models are more \"name like\" than the previous model as we have better information about the patterns. This can be attributed to \n",
    "- Better input provided to the model: Neural network is able to model relationship between multiple input characters and then predict the next character. As opposed to the probability distribution, neural network handles the \"curse-of-dimensionality\" better\n",
    "- More complex model: Our current neural network is more complex than the one we discussed earlier and is able to learn better."
   ]
  },
  {
   "cell_type": "markdown",
   "metadata": {},
   "source": []
  }
 ],
 "metadata": {
  "kernelspec": {
   "display_name": "Python 3",
   "language": "python",
   "name": "python3"
  },
  "language_info": {
   "codemirror_mode": {
    "name": "ipython",
    "version": 3
   },
   "file_extension": ".py",
   "mimetype": "text/x-python",
   "name": "python",
   "nbconvert_exporter": "python",
   "pygments_lexer": "ipython3",
   "version": "3.11.7"
  }
 },
 "nbformat": 4,
 "nbformat_minor": 2
}
